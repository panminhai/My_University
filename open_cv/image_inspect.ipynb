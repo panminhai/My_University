{
 "cells": [
  {
   "cell_type": "code",
   "execution_count": 1,
   "metadata": {},
   "outputs": [],
   "source": [
    "import cv2\n",
    "import numpy as np"
   ]
  },
  {
   "cell_type": "code",
   "execution_count": 2,
   "metadata": {},
   "outputs": [],
   "source": [
    "img = cv2.imread('C:/Users/e1356/python/open_cv/panel_break.jpg')\n",
    "img_origin = cv2.imread('C:/Users/e1356/python/open_cv/panel_break.jpg')"
   ]
  },
  {
   "cell_type": "code",
   "execution_count": 3,
   "metadata": {},
   "outputs": [],
   "source": [
    "\n",
    "if img is not None:\n",
    "    # 高斯模糊計算\n",
    "    blur = cv2.GaussianBlur(img, (31, 31), 0)# 設定模糊化強度(5*5)\n",
    "\n",
    "    # 轉為灰度影像(灰階化指令: cv2.COLOR_BGR2GRAY)\n",
    "    gray = cv2.cvtColor(img, cv2.COLOR_BGR2GRAY)\n",
    "    gray_blur = cv2.cvtColor(blur, cv2.COLOR_BGR2GRAY)\n",
    "\n",
    "    # 計算灰度差影像\n",
    "    diff = cv2.absdiff(gray, gray_blur)\n",
    "\n",
    "    # 二值化處理\n",
    "    thresh = cv2.threshold(diff, 40, 255, cv2.THRESH_BINARY)[1]\n",
    "\n",
    "    \n",
    "else:\n",
    "    print('image read failed')"
   ]
  },
  {
   "cell_type": "code",
   "execution_count": 4,
   "metadata": {},
   "outputs": [],
   "source": [
    "# 型態學操作\n",
    "kernel = cv2.getStructuringElement(cv2.MORPH_RECT, (3, 3))# (shape:矩形生成, ksize: 結構元素大小)\n",
    "closed = cv2.morphologyEx(thresh, cv2.MORPH_CLOSE, kernel)# ()\n"
   ]
  },
  {
   "cell_type": "code",
   "execution_count": 5,
   "metadata": {},
   "outputs": [],
   "source": [
    "# 輪廓檢測\n",
    "contours, hierarchy = cv2.findContours(closed, cv2.RETR_EXTERNAL, cv2.CHAIN_APPROX_SIMPLE)\n",
    "\n",
    "# 繪製矩形\n",
    "for c in contours:\n",
    "    x, y, w, h = cv2.boundingRect(c)\n",
    "    cv2.rectangle(img, (x, y), (x+w, y+h), (0, 0, 255), 2)"
   ]
  },
  {
   "cell_type": "code",
   "execution_count": 6,
   "metadata": {},
   "outputs": [],
   "source": [
    "# cv2.resize(img, (200, 500))\n",
    "cv2.imshow('result', img)\n",
    "cv2.imshow('original', img_origin)\n",
    "cv2.waitKey(0)\n",
    "cv2.destroyAllWindows()"
   ]
  }
 ],
 "metadata": {
  "kernelspec": {
   "display_name": "Python 3",
   "language": "python",
   "name": "python3"
  },
  "language_info": {
   "codemirror_mode": {
    "name": "ipython",
    "version": 3
   },
   "file_extension": ".py",
   "mimetype": "text/x-python",
   "name": "python",
   "nbconvert_exporter": "python",
   "pygments_lexer": "ipython3",
   "version": "3.8.5"
  },
  "orig_nbformat": 4,
  "vscode": {
   "interpreter": {
    "hash": "7f54092f8de61dcf67afc0f0fff124ec45fedde7083e7065dd0c61baf9a603e9"
   }
  }
 },
 "nbformat": 4,
 "nbformat_minor": 2
}
